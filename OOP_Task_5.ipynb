{
  "nbformat": 4,
  "nbformat_minor": 0,
  "metadata": {
    "colab": {
      "name": "OOP Task 5",
      "provenance": [],
      "authorship_tag": "ABX9TyN+BC2sVGlbXye1/afzZVFO",
      "include_colab_link": true
    },
    "kernelspec": {
      "name": "python3",
      "display_name": "Python 3"
    },
    "language_info": {
      "name": "python"
    }
  },
  "cells": [
    {
      "cell_type": "markdown",
      "metadata": {
        "id": "view-in-github",
        "colab_type": "text"
      },
      "source": [
        "<a href=\"https://colab.research.google.com/github/HarshitS45/OOP--Lab-Assignments/blob/main/OOP_Task_5.ipynb\" target=\"_parent\"><img src=\"https://colab.research.google.com/assets/colab-badge.svg\" alt=\"Open In Colab\"/></a>"
      ]
    },
    {
      "cell_type": "code",
      "metadata": {
        "colab": {
          "base_uri": "https://localhost:8080/"
        },
        "id": "XTL_f2nEmEYf",
        "outputId": "2cbc7d97-95d0-461f-d366-c565662ab32c"
      },
      "source": [
        "# PROBLEM-1\n",
        "from abc import ABC, abstractmethod\n",
        "import numpy as np\n",
        "\n",
        "class Shape:\n",
        "  def __init__(self, name):\n",
        "    self.name = name\n",
        "  \n",
        "  @abstractmethod\n",
        "  def area(self):\n",
        "    pass\n",
        "\n",
        "class Circle(Shape):\n",
        "  def __init__(self, radius):\n",
        "    Shape.__init__(self, 'Circle')\n",
        "    self.radius = radius\n",
        "  \n",
        "  def area(self):\n",
        "    return round(np.pi * (self.radius**2))\n",
        "\n",
        "class Square(Shape):\n",
        "  def __init__(self, length):\n",
        "    Shape.__init__(self, 'Square')\n",
        "    self.length = length\n",
        "\n",
        "  def area(self):\n",
        "    return self.length**2\n",
        "\n",
        "class Rectangle(Shape):\n",
        "  def __init__(self, length, breadth):\n",
        "    Shape.__init__(self, 'Rectangle')\n",
        "    self.length = length\n",
        "    self.breadth = breadth\n",
        "\n",
        "  def area(self):\n",
        "    return self.length*self.breadth\n",
        "\n",
        "c = Circle(7)\n",
        "s = Square(4)\n",
        "r = Rectangle(5, 4)\n",
        "print(f'Area of Circle: {c.area()}\\nArea of Square: {s.area()}\\nArea of Rectangle: {r.area()}')    "
      ],
      "execution_count": 1,
      "outputs": [
        {
          "output_type": "stream",
          "name": "stdout",
          "text": [
            "Area of Circle: 154\n",
            "Area of Square: 16\n",
            "Area of Rectangle: 20\n"
          ]
        }
      ]
    },
    {
      "cell_type": "code",
      "metadata": {
        "colab": {
          "base_uri": "https://localhost:8080/"
        },
        "id": "EobYH0DmpcbM",
        "outputId": "ed8753a6-de77-438f-99e4-3995b325fc89"
      },
      "source": [
        "#PROBLEM-2\n",
        "class Travel:\n",
        "  def __init__(self, mode, distance, passengers):\n",
        "    self.mode = mode\n",
        "    self.distance = distance\n",
        "    self._passengers = passengers\n",
        "\n",
        "  def passenger_count(self):\n",
        "    return self._passengers\n",
        "  \n",
        "  @abstractmethod\n",
        "  def calc_cost(self):\n",
        "    pass\n",
        "\n",
        "class Bus(Travel):\n",
        "  def __init__(self, distance, passengers):\n",
        "    super().__init__('Bus', distance, passengers)\n",
        "\n",
        "  def get_passengers(self):\n",
        "    return super().passenger_count()\n",
        "\n",
        "  def calc_cost(self):\n",
        "    return self.get_passengers()*100\n",
        "\n",
        "\n",
        "class Train(Travel):\n",
        "  def __init__(self, distance, passengers):\n",
        "    super().__init__('Train', distance, passengers)\n",
        "\n",
        "  def get_passengers(self):\n",
        "    return super().passenger_count()\n",
        "\n",
        "  def calc_cost(self):\n",
        "    return self.get_passengers()*60\n",
        "\n",
        "b = Bus(30, 23)\n",
        "t = Train(85, 75)\n",
        "print(f'Cost of Trip by:\\nBus: {b.calc_cost()}\\nTrain: {t.calc_cost()}')"
      ],
      "execution_count": 2,
      "outputs": [
        {
          "output_type": "stream",
          "name": "stdout",
          "text": [
            "Cost of Trip by:\n",
            "Bus: 2300\n",
            "Train: 4500\n"
          ]
        }
      ]
    },
    {
      "cell_type": "code",
      "metadata": {
        "colab": {
          "base_uri": "https://localhost:8080/"
        },
        "id": "oMV6tz1Gpqvx",
        "outputId": "51ba5943-5545-4a48-c576-3bb5922273b1"
      },
      "source": [
        "# PROBLEM-3\n",
        "class Car:\n",
        "  def __init__(self, modelno):\n",
        "    self.modelno = modelno\n",
        "\n",
        "def swap_model_no(car1, car2):\n",
        "  car1.modelno, car2.modelno = car2.modelno, car1.modelno\n",
        "\n",
        "c1 = Car('CX456')\n",
        "c2 = Car('XUV500')\n",
        "print('Before Swap:')\n",
        "print(f'Car 1: {c1.modelno}\\nCar 2: {c2.modelno}')\n",
        "swap_model_no(c1, c2)\n",
        "print('After Swap:')\n",
        "print(f'Car 1: {c1.modelno}\\nCar 2: {c2.modelno}')"
      ],
      "execution_count": 3,
      "outputs": [
        {
          "output_type": "stream",
          "name": "stdout",
          "text": [
            "Before Swap:\n",
            "Car 1: CX456\n",
            "Car 2: XUV500\n",
            "After Swap:\n",
            "Car 1: XUV500\n",
            "Car 2: CX456\n"
          ]
        }
      ]
    }
  ]
}