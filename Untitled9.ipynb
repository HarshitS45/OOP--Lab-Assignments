{
  "nbformat": 4,
  "nbformat_minor": 0,
  "metadata": {
    "colab": {
      "name": "Untitled9.ipynb",
      "provenance": [],
      "authorship_tag": "ABX9TyPynFrdyXiJwIegdQLzpG6S",
      "include_colab_link": true
    },
    "kernelspec": {
      "name": "python3",
      "display_name": "Python 3"
    },
    "language_info": {
      "name": "python"
    }
  },
  "cells": [
    {
      "cell_type": "markdown",
      "metadata": {
        "id": "view-in-github",
        "colab_type": "text"
      },
      "source": [
        "<a href=\"https://colab.research.google.com/github/HarshitS45/OOP--Lab-Assignments/blob/main/Untitled9.ipynb\" target=\"_parent\"><img src=\"https://colab.research.google.com/assets/colab-badge.svg\" alt=\"Open In Colab\"/></a>"
      ]
    },
    {
      "cell_type": "code",
      "metadata": {
        "id": "5bYR8FJtXA4r"
      },
      "source": [
        "#Problem-5\n",
        "\n",
        "# gross pay = bp+da+hra\n",
        "# da = 40% of bp and hra = 20%of bp\n",
        "# gp = bp + 60% of bp\n",
        "# gp = 160%ofbp i.e. 1.6*bp\n",
        "\n",
        "def calc_GrossPay(basic_pay):\n",
        "  return 1.6*basic_pay\n",
        "\n",
        "basic_pay = int(input('Enter the basic pay: '))\n",
        "gross_pay = calc_GrossPay(basic_pay)\n",
        "print(f'The gross pay is {gross_pay}')\n",
        "\n",
        "basic_pay = int(input('Enter the basic pay: '))\n",
        "gross_pay = calc_GrossPay(basic_pay)\n",
        "print(f'The gross pay is {gross_pay}')\n",
        "\n",
        "basic_pay = int(input('Enter the basic pay: '))\n",
        "gross_pay = calc_GrossPay(basic_pay)\n",
        "print(f'The gross pay is {gross_pay}')"
      ],
      "execution_count": null,
      "outputs": []
    }
  ]
}