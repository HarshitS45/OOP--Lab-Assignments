{
  "nbformat": 4,
  "nbformat_minor": 0,
  "metadata": {
    "colab": {
      "name": "assignment 2",
      "provenance": [],
      "collapsed_sections": [],
      "authorship_tag": "ABX9TyPaYD8QfZOU0PLIQiSq7lHl",
      "include_colab_link": true
    },
    "kernelspec": {
      "name": "python3",
      "display_name": "Python 3"
    },
    "language_info": {
      "name": "python"
    }
  },
  "cells": [
    {
      "cell_type": "markdown",
      "metadata": {
        "id": "view-in-github",
        "colab_type": "text"
      },
      "source": [
        "<a href=\"https://colab.research.google.com/github/HarshitS45/OOP--Lab-Assignments/blob/main/assignment_2.ipynb\" target=\"_parent\"><img src=\"https://colab.research.google.com/assets/colab-badge.svg\" alt=\"Open In Colab\"/></a>"
      ]
    },
    {
      "cell_type": "code",
      "metadata": {
        "id": "867A0KCXQchA"
      },
      "source": [
        ""
      ],
      "execution_count": null,
      "outputs": []
    },
    {
      "cell_type": "code",
      "metadata": {
        "colab": {
          "base_uri": "https://localhost:8080/"
        },
        "id": "sKuyUUPdubMf",
        "outputId": "df47ddea-dcb4-4954-90f6-995242805b9b"
      },
      "source": [
        "class circle:\n",
        "  def __init__(self,radius):\n",
        "    self.radius = radius\n",
        "  def area(self):\n",
        "    return print(\"Area : \",pi*(self.radius)**2)\n",
        "  def perimeter(self):\n",
        "    return print(\"Perimeter : \",2*pi*(self.radius))\n",
        "\n",
        "c1 = circle(4)\n",
        "c1.area()\n",
        "c1.perimeter()"
      ],
      "execution_count": null,
      "outputs": [
        {
          "output_type": "stream",
          "name": "stdout",
          "text": [
            "Area :  50.26548245743669\n",
            "Perimeter :  25.132741228718345\n"
          ]
        }
      ]
    },
    {
      "cell_type": "code",
      "metadata": {
        "colab": {
          "base_uri": "https://localhost:8080/"
        },
        "id": "kEMuhDuxucBD",
        "outputId": "b32cb57f-6ce8-4036-a68d-ef0d6b551648"
      },
      "source": [
        "\n",
        "class faculty : \n",
        "  def __init__(self):\n",
        "    self.name = []\n",
        "    self.id = []\n",
        "    self.branch = []\n",
        "    self.salary = []\n",
        "  def collect(self):\n",
        "    print(\"--------- Enter Faculty Details --------\\n\")\n",
        "    for i in range(0,5):\n",
        "      self.name.append(input(\"Faculty Name : \"))\n",
        "      self.id.append(input(\"Employee Id : \"))\n",
        "      self.branch.append(input(\"Branch : \"))\n",
        "      self.salary.append(input(\"Salary : \"))\n",
        "      print(\"\\n\")\n",
        "\n",
        "  def display(self):\n",
        "    print(\"--------- Displaying Faculty Details --------\\n\")\n",
        "    for i in range(0,5):\n",
        "      print(\"Faculty Name : \"+self.name[i] + '\\n' +\"Employee Id : \"+self.id[i]  + '\\n' +\"Branch : \"+self.branch[i] + '\\n' + \"Salary : \"+self.salary[i] + '\\n')\n",
        "\n",
        "f = faculty()\n",
        "f.collect()\n",
        "f.display()\n",
        "\n"
      ],
      "execution_count": null,
      "outputs": [
        {
          "output_type": "stream",
          "name": "stdout",
          "text": [
            "--------- Enter Faculty Details --------\n",
            "\n",
            "Faculty Name : Dr. Anand\n",
            "Employee Id : MA201\n",
            "Branch : CSE\n",
            "Salary : 100000\n",
            "\n",
            "\n",
            "Faculty Name : Dr. Uma\n",
            "Employee Id : CS207\n",
            "Branch : CSE\n",
            "Salary : 100000\n",
            "\n",
            "\n",
            "Faculty Name : Dr. Prabhu\n",
            "Employee Id : CS208\n",
            "Branch : CSE\n",
            "Salary : 100000\n",
            "\n",
            "\n",
            "Faculty Name : Dr. Malay\n",
            "Employee Id : CS202\n",
            "Branch : CSE\n",
            "Salary : 100000\n",
            "\n",
            "\n",
            "Faculty Name : Dr. Pramod\n",
            "Employee Id : CS201\n",
            "Branch : CSE\n",
            "Salary : 100000\n",
            "\n",
            "\n",
            "--------- Displaying Faculty Details --------\n",
            "\n",
            "Faculty Name : Dr. Anand\n",
            "Employee Id : MA201\n",
            "Branch : CSE\n",
            "Salary : 100000\n",
            "\n",
            "Faculty Name : Dr. Uma\n",
            "Employee Id : CS207\n",
            "Branch : CSE\n",
            "Salary : 100000\n",
            "\n",
            "Faculty Name : Dr. Prabhu\n",
            "Employee Id : CS208\n",
            "Branch : CSE\n",
            "Salary : 100000\n",
            "\n",
            "Faculty Name : Dr. Malay\n",
            "Employee Id : CS202\n",
            "Branch : CSE\n",
            "Salary : 100000\n",
            "\n",
            "Faculty Name : Dr. Pramod\n",
            "Employee Id : CS201\n",
            "Branch : CSE\n",
            "Salary : 100000\n",
            "\n"
          ]
        }
      ]
    },
    {
      "cell_type": "code",
      "metadata": {
        "id": "YDWs4P3ducpu",
        "colab": {
          "base_uri": "https://localhost:8080/"
        },
        "outputId": "d5f90056-6b03-4495-fe89-59fb0e81e95f"
      },
      "source": [
        "class account:\n",
        "  def __init__(self):\n",
        "    self.amount= 0.00\n",
        "    self.balance = 0.00\n",
        "  def deposit(self):\n",
        "    print(\"----------- Welcome to XYZ Bank -------------\\n\")\n",
        "    self.number = int(input(\"Enter your account number : \"))\n",
        "    self.name = input(\"Enter your name : \")\n",
        "    self.balance = float(input(\"Enter Deposit Amount : \"))\n",
        "    print(\"\\nRs.{} deposited succesfully!!\\n\".format(self.balance))\n",
        "\n",
        "  def withdrew(self):\n",
        "    self.amount = float(input(\"Enter Withdraw Amount : \"))\n",
        "    if self.amount<=self.balance :\n",
        "      print(\"\\nRs.{} withdrawn succesfully!!\\n\".format(self.amount))\n",
        "    else : \n",
        "      print(\"Insufficient Balance!!\\n\")\n",
        "      self.withdrew()\n",
        "\n",
        "  def Balance(self):\n",
        "    print(\"--------- Displaying Account Balance --------\\n\")\n",
        "    print(\"Balance : Rs.{} \\n\".format(self.balance - self.amount))\n",
        "\n",
        "  def display(self):\n",
        "    print(\"--------- Displaying Account Details --------\\n\")\n",
        "    print(\"\\nAccount Number : \",self.number)\n",
        "    print(\"\\nAccount Holder Name : \",self.name)\n",
        "    print(\"\\nAccount Balance : \",self.balance - self.amount)\n",
        "  \n",
        "c=account()\n",
        "c.deposit()\n",
        "c.withdrew()\n",
        "c.Balance()\n",
        "c.display()\n"
      ],
      "execution_count": 2,
      "outputs": [
        {
          "output_type": "stream",
          "name": "stdout",
          "text": [
            "----------- Welcome to XYZ Bank -------------\n",
            "\n",
            "Enter your account number : 54786588393830\n",
            "Enter your name : HArshit Srivastava\n",
            "Enter Deposit Amount : 10000\n",
            "\n",
            "Rs.10000.0 deposited succesfully!!\n",
            "\n",
            "Enter Withdraw Amount : 5000\n",
            "\n",
            "Rs.5000.0 withdrawn succesfully!!\n",
            "\n",
            "--------- Displaying Account Balance --------\n",
            "\n",
            "Balance : Rs.5000.0 \n",
            "\n",
            "--------- Displaying Account Details --------\n",
            "\n",
            "\n",
            "Account Number :  54786588393830\n",
            "\n",
            "Account Holder Name :  HArshit Srivastava\n",
            "\n",
            "Account Balance :  5000.0\n"
          ]
        }
      ]
    },
    {
      "cell_type": "code",
      "metadata": {
        "id": "jjw4UTkQvqbK",
        "colab": {
          "base_uri": "https://localhost:8080/"
        },
        "outputId": "532be8af-ad95-4d95-f002-71531e7a8c4f"
      },
      "source": [
        "\n",
        "class hospital : \n",
        "  def __init__(self):\n",
        "    self.name = []\n",
        "    self.admit = []\n",
        "    self.symptoms = []\n",
        "    self.oxygen = []\n",
        "    self.discharge = []\n",
        "  def patient(self):\n",
        "    self.name.append(input(\"\\nPatient Name : \"))\n",
        "    self.admit.append(input(\"Date of Admission : \"))\n",
        "    self.symptoms.append(input(\"List of Symptoms : \"))\n",
        "    self.oxygen.append(int(input(\"Oxygen level : \")))\n",
        "    self.discharge.append(input(\"Date of Discharge : \"))\n",
        "  def  oxy_support(self):\n",
        "    count = 0\n",
        "    for x in range(len(self.oxygen)):\n",
        "        if self.oxygen[x] < 90 :\n",
        "          count = count + 1\n",
        "    return print(\"\\nNumber of patients required oxygen support : \",count)\n",
        "  def general(self):\n",
        "    count = 0\n",
        "    for x in range(len(self.oxygen)):\n",
        "        if self.oxygen[x] >= 90 :\n",
        "          count = count + 1\n",
        "    return print(\"\\nNumber of patients in general ward for observation : \",count)\n",
        "  def total(self):\n",
        "    return print(\"\\nTotal number of patients admitted : \",len(self.name))\n",
        "\n",
        "  def severity(self):\n",
        "    p = input(\"\\nPatient Name : \")\n",
        "    if p in self.name :\n",
        "      if self.oxygen[self.name.index(p)] < 90 :\n",
        "        return print(\"\\nPatient is in severe condition.\")\n",
        "      else :\n",
        "        print(\"\\nPatient is not in severe condition.\")\n",
        "    else :\n",
        "      print(\"\\nNo patient with this name !!\")\n",
        "\n",
        "c = hospital()\n",
        "while(1):\n",
        "  print(\"\\n---- Please make choice ------\")\n",
        "  print(\"\\n1) Patient's Info \\n2) Check patient's severity \\n3) Patients required oxygen support \\n4) Patients in general ward \\n5) Total Patients \\n6)Exit \\n\")\n",
        "  n = int(input())\n",
        "  if n == 1:\n",
        "    c.patient()\n",
        "  elif n == 2:\n",
        "    c.severity()\n",
        "  elif n == 3:\n",
        "    c.oxy_support()\n",
        "  elif n == 4:\n",
        "    c.general()\n",
        "  elif n == 5:\n",
        "    c.total()\n",
        "  else :\n",
        "    break"
      ],
      "execution_count": null,
      "outputs": [
        {
          "output_type": "stream",
          "name": "stdout",
          "text": [
            "\n",
            "---- Please make choice ------\n",
            "\n",
            "1) Patient's Info \n",
            "2) Check patient's severity \n",
            "3) Patients required oxygen support \n",
            "4) Patients in general ward \n",
            "5) Total Patients \n",
            "6)Exit \n",
            "\n",
            "1\n",
            "\n",
            "Patient Name : Harshit\n",
            "Date of Admission : 21 mar\n",
            "List of Symptoms : fever\n",
            "Oxygen level : 59\n",
            "Date of Discharge : 23 may\n",
            "\n",
            "---- Please make choice ------\n",
            "\n",
            "1) Patient's Info \n",
            "2) Check patient's severity \n",
            "3) Patients required oxygen support \n",
            "4) Patients in general ward \n",
            "5) Total Patients \n",
            "6)Exit \n",
            "\n",
            "5\n",
            "\n",
            "Total number of patients admitted :  1\n",
            "\n",
            "---- Please make choice ------\n",
            "\n",
            "1) Patient's Info \n",
            "2) Check patient's severity \n",
            "3) Patients required oxygen support \n",
            "4) Patients in general ward \n",
            "5) Total Patients \n",
            "6)Exit \n",
            "\n",
            "4\n",
            "\n",
            "Number of patients in general ward for observation :  0\n",
            "\n",
            "---- Please make choice ------\n",
            "\n",
            "1) Patient's Info \n",
            "2) Check patient's severity \n",
            "3) Patients required oxygen support \n",
            "4) Patients in general ward \n",
            "5) Total Patients \n",
            "6)Exit \n",
            "\n"
          ]
        }
      ]
    },
    {
      "cell_type": "code",
      "metadata": {
        "id": "osM3Typevwxf",
        "colab": {
          "base_uri": "https://localhost:8080/"
        },
        "outputId": "651c89af-77c2-41fe-bd32-99187b4a1062"
      },
      "source": [
        "class time :\n",
        "  def __init__(self,hours = 00,min = 00,sec = 00):\n",
        "    self.hours = hours\n",
        "    self.min = min\n",
        "    self.sec = sec\n",
        "  def display(self):\n",
        "    if (self.hours >=24 or self.hours < 0 and self.min == self.sec == 59):\n",
        "      return print(\"Invalid hours!!\")\n",
        "\n",
        "    if (self.min >=60 or self.min < 0):\n",
        "      return print(\"\\nInvalid minutes!!\")\n",
        "      \n",
        "    if (self.sec >=60 or self.sec < 0):\n",
        "      return print(\"\\nInvalid seconds!!\")\n",
        "\n",
        "    print(\"{}:{}:{}\".format(self.hours,self.min,self.sec))\n",
        "\n",
        "\n",
        "t = time(23,59,59)\n",
        "t.display()\n"
      ],
      "execution_count": null,
      "outputs": [
        {
          "output_type": "stream",
          "name": "stdout",
          "text": [
            "23:59:59\n"
          ]
        }
      ]
    },
    {
      "cell_type": "code",
      "metadata": {
        "id": "SuWT3Op3v7Vq",
        "colab": {
          "base_uri": "https://localhost:8080/"
        },
        "outputId": "2852d962-58f2-411d-decb-0e6061a1f20b"
      },
      "source": [
        "class student:\n",
        "  sem = '3rd'\n",
        "  institute = 'IIIT DWD'\n",
        "  def __init__(self,name,usn):\n",
        "    self.name  =name\n",
        "    self.usn =usn\n",
        "\n",
        "  def show(self):\n",
        "    #Printing the instance variable using the instance method\n",
        "    print(\"Name : \"+self.name+'\\n'+\"USN : \"+self.usn)\n",
        "\n",
        "  @classmethod\n",
        "  def clsmethod(cls):\n",
        "    #Printing the class variable using the instance method\n",
        "    print(\"Sem : \"+student.sem+'\\n'+\"Institute : \"+student.institute+'\\n')\n",
        "\n",
        "  @staticmethod\n",
        "  def statmethod():\n",
        "    #Using static method to print an explanation about the class\n",
        "    print(\"\\nA class to store student details such as Sem, Institute, Name, and usn .\\n\")\n",
        "\n",
        "s1 = student('Harshit','54')\n",
        "s1.statmethod()\n",
        "s1.show()\n",
        "s1.clsmethod()\n",
        "\n",
        "s2 = student('Aman','100')\n",
        "s2.statmethod()\n",
        "s2.show()\n",
        "s2.clsmethod()"
      ],
      "execution_count": 3,
      "outputs": [
        {
          "output_type": "stream",
          "name": "stdout",
          "text": [
            "\n",
            "A class to store student details such as Sem, Institute, Name, and usn .\n",
            "\n",
            "Name : Harshit\n",
            "USN : 54\n",
            "Sem : 3rd\n",
            "Institute : IIIT DWD\n",
            "\n",
            "\n",
            "A class to store student details such as Sem, Institute, Name, and usn .\n",
            "\n",
            "Name : Aman\n",
            "USN : 100\n",
            "Sem : 3rd\n",
            "Institute : IIIT DWD\n",
            "\n"
          ]
        }
      ]
    },
    {
      "cell_type": "code",
      "metadata": {
        "id": "7yn6JPljwDNI",
        "colab": {
          "base_uri": "https://localhost:8080/"
        },
        "outputId": "3395bddf-c179-44ec-e24f-a64688952c20"
      },
      "source": [
        "class student:\n",
        "  def __init__(self,name,roll,sem):\n",
        "    self.name = name\n",
        "    self.roll = roll\n",
        "    self.sem = sem\n",
        "\n",
        "class laptop(student):\n",
        "  def __init__(self,cpu,ram,hd,name,roll,sem):\n",
        "    self.cpu = cpu\n",
        "    self.ram = ram\n",
        "    self.hd = hd\n",
        "    student.__init__(self,name,roll,sem)\n",
        "\n",
        "  def display(self):\n",
        "    print(\"\\nName : \" + self.name + \"\\nRoll No. : \" + self.roll + \"\\nSemester : \" + self.sem + \"\\nCPU : \" + self.cpu + \"\\nRAM : \" + self.ram + \"\\nHard Disk : \" + self.hd)\n",
        "\n",
        "#s1 = student('Harshit','54','3rd')\n",
        "l1 = laptop('pentium','4gb','500gb','Harshit','54','3rd')\n",
        "l2 = laptop('ryzen 7','8gb','1tb','harshit','54','3rd')\n",
        "l1.display()\n",
        "l2.display()"
      ],
      "execution_count": 4,
      "outputs": [
        {
          "output_type": "stream",
          "name": "stdout",
          "text": [
            "\n",
            "Name : Harshit\n",
            "Roll No. : 54\n",
            "Semester : 3rd\n",
            "CPU : pentium\n",
            "RAM : 4gb\n",
            "Hard Disk : 500gb\n",
            "\n",
            "Name : harshit\n",
            "Roll No. : 54\n",
            "Semester : 3rd\n",
            "CPU : ryzen 7\n",
            "RAM : 8gb\n",
            "Hard Disk : 1tb\n"
          ]
        }
      ]
    }
  ]
}