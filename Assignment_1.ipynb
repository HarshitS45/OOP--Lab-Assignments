{
  "nbformat": 4,
  "nbformat_minor": 0,
  "metadata": {
    "colab": {
      "name": "Assignment 1",
      "provenance": [],
      "collapsed_sections": [],
      "authorship_tag": "ABX9TyOdViysMQe0fDMEfpS9xkhk",
      "include_colab_link": true
    },
    "kernelspec": {
      "name": "python3",
      "display_name": "Python 3"
    },
    "language_info": {
      "name": "python"
    }
  },
  "cells": [
    {
      "cell_type": "markdown",
      "metadata": {
        "id": "view-in-github",
        "colab_type": "text"
      },
      "source": [
        "<a href=\"https://colab.research.google.com/github/HarshitS45/OOP--Lab-Assignments/blob/main/Assignment_1.ipynb\" target=\"_parent\"><img src=\"https://colab.research.google.com/assets/colab-badge.svg\" alt=\"Open In Colab\"/></a>"
      ]
    },
    {
      "cell_type": "code",
      "metadata": {
        "id": "_w5753WPkdTJ"
      },
      "source": [
        ""
      ],
      "execution_count": null,
      "outputs": []
    },
    {
      "cell_type": "code",
      "metadata": {
        "colab": {
          "base_uri": "https://localhost:8080/"
        },
        "id": "mHUw-sWYCezy",
        "outputId": "c1c1768e-d9fa-417c-8910-0dea8e0b0447"
      },
      "source": [
        "def checkyear(year):\n",
        "  if(year%400 == 0):\n",
        "    return(True)\n",
        "  elif(year%4==0 and year %100 != 0):\n",
        "    return(TRUE)\n",
        "  else:\n",
        "    return(False)\n",
        "\n",
        "print(\"**********PROBLEM-I**********\\n\")\n",
        "year = int(input(\"Enter the Year: \"))\n",
        "checkyear(year)"
      ],
      "execution_count": 2,
      "outputs": [
        {
          "name": "stdout",
          "output_type": "stream",
          "text": [
            "**********PROBLEM-I**********\n",
            "\n",
            "Enter the Year: 4006\n"
          ]
        },
        {
          "output_type": "execute_result",
          "data": {
            "text/plain": [
              "False"
            ]
          },
          "metadata": {},
          "execution_count": 2
        }
      ]
    },
    {
      "cell_type": "code",
      "metadata": {
        "colab": {
          "base_uri": "https://localhost:8080/"
        },
        "id": "NfpIQ94lCpAn",
        "outputId": "e8a5fed9-de60-4f77-9ccc-9aa9fd3f4532"
      },
      "source": [
        "print(\"****************PROBLEM-II************\\n\")\n",
        "n = int(input(\"Enter the number: \"))\n",
        "if(n%2 != 0):\n",
        "  print(\"Weird\")  \n",
        "elif(n%2 == 0):\n",
        "  if(n>= 2 and n<=5):\n",
        "    print(\"Not Weird\")\n",
        "  if(n>=6 and n<=20):\n",
        "    print(\"Weird\")\n",
        "  if(n>20):\n",
        "    print(\"Not Weird\")"
      ],
      "execution_count": 5,
      "outputs": [
        {
          "output_type": "stream",
          "name": "stdout",
          "text": [
            "****************PROBLEM-II************\n",
            "\n",
            "Enter the number: 21\n",
            "Weird\n"
          ]
        }
      ]
    },
    {
      "cell_type": "code",
      "metadata": {
        "colab": {
          "base_uri": "https://localhost:8080/"
        },
        "id": "rhp6CNGdC2VU",
        "outputId": "7d2629ce-be34-47d8-9cfe-0d38f0d2ea3c"
      },
      "source": [
        "print(\"*****************PROBLEM-III*************\\n\")\n",
        "n = int(input(\"Enter the number of guests: \"))\n",
        "guests = []\n",
        "for i in range(0, n):\n",
        "  name = str(input(\"enter the name of guests: \"))\n",
        "  guests.append([name])\n",
        "print(\"Guests are: \", guests)\n",
        "if(n%2==0):\n",
        "  for k in range( int((n)/2) , n-1):\n",
        "    print(\"\\nFashionable late persons are: \", guests[k])\n",
        "elif(n%2 != 0):\n",
        "  for k in range( int((n-1)/2) , n-1):\n",
        "    print(\"\\nFashionable late persons are: \", guests[k])"
      ],
      "execution_count": 4,
      "outputs": [
        {
          "output_type": "stream",
          "name": "stdout",
          "text": [
            "*****************PROBLEM-III*************\n",
            "\n",
            "Enter the number of guests: 3\n",
            "enter the name of guests: Harshit\n",
            "enter the name of guests: Sangam\n",
            "enter the name of guests: Anmol\n",
            "Guests are:  [['Harshit'], ['Sangam'], ['Anmol']]\n",
            "\n",
            "Fashionable late persons are:  ['Sangam']\n"
          ]
        }
      ]
    },
    {
      "cell_type": "code",
      "metadata": {
        "colab": {
          "base_uri": "https://localhost:8080/"
        },
        "id": "a9KaPLj8DKaF",
        "outputId": "2bf4b5e4-2bb3-4242-dff3-72c12437ec6c"
      },
      "source": [
        "print(\"*****************PROBLE-IV***********\\n\")\n",
        "def word_search_2(title_list, keyword):\n",
        "    # make lowercase and remove punctuation\n",
        "    keyword = keyword.lower().strip('.,')\n",
        "\n",
        "    result_list = []\n",
        "    for i, title in enumerate(title_list):\n",
        "        # make lowercase and remove punctuation, then split into words\n",
        "        words = title.lower().strip('.,').split()\n",
        "\n",
        "        if keyword in words:\n",
        "            result_list.append((i, title))\n",
        "\n",
        "    return result_list\n",
        "\n",
        "if __name__ == '__main__':\n",
        "    docs = [\n",
        "        'The Learn Python Challenge Casino',\n",
        "        'They bought a car, and a horse',\n",
        "        'The big casino.',\n",
        "        'Casinoville?',\n",
        "    ]\n",
        "    w = 'casino'\n",
        "\n",
        "    print(word_search_2(docs, w))"
      ],
      "execution_count": null,
      "outputs": [
        {
          "output_type": "stream",
          "name": "stdout",
          "text": [
            "*****************PROBLE-IV***********\n",
            "\n",
            "[(0, 'The Learn Python Challenge Casino'), (2, 'The big casino.')]\n"
          ]
        }
      ]
    },
    {
      "cell_type": "code",
      "metadata": {
        "colab": {
          "base_uri": "https://localhost:8080/"
        },
        "id": "eeXIHFEQDY2X",
        "outputId": "e07bafd8-ae88-4294-926b-4857c84bd191"
      },
      "source": [
        "print(\"*************PROBLEM-V*************\\n\")\n",
        "bp = float(input(\"Enter the Basic Pay: \"))\n",
        "da = (40*bp)/100\n",
        "hra = (20*bp)/100\n",
        "gp = bp + da + hra\n",
        "print(gp)"
      ],
      "execution_count": 3,
      "outputs": [
        {
          "output_type": "stream",
          "name": "stdout",
          "text": [
            "*************PROBLEM-V*************\n",
            "\n",
            "Enter the Basic Pay: 4657\n",
            "7451.2\n"
          ]
        }
      ]
    }
  ]
}