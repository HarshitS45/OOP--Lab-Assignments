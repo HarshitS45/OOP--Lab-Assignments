{
  "nbformat": 4,
  "nbformat_minor": 0,
  "metadata": {
    "colab": {
      "name": "OOP Task 4",
      "provenance": [],
      "collapsed_sections": [],
      "authorship_tag": "ABX9TyOg4g6r8IBJcc/aGZkRgTYC",
      "include_colab_link": true
    },
    "kernelspec": {
      "name": "python3",
      "display_name": "Python 3"
    },
    "language_info": {
      "name": "python"
    }
  },
  "cells": [
    {
      "cell_type": "markdown",
      "metadata": {
        "id": "view-in-github",
        "colab_type": "text"
      },
      "source": [
        "<a href=\"https://colab.research.google.com/github/HarshitS45/OOP--Lab-Assignments/blob/main/OOP_Task_4.ipynb\" target=\"_parent\"><img src=\"https://colab.research.google.com/assets/colab-badge.svg\" alt=\"Open In Colab\"/></a>"
      ]
    },
    {
      "cell_type": "code",
      "metadata": {
        "id": "CvDpfEuwRD_J"
      },
      "source": [
        "class Node:\n",
        "\t\n",
        "\t# Class to create nodes of linked list\n",
        "\t# constructor initializes node automatically\n",
        "\tdef _init_(self,data):\n",
        "\t\tself.data = data\n",
        "\t\tself.next = None\n",
        "\t\n",
        "class Stack:\n",
        "\t\n",
        "\t# head is default NULL\n",
        "\tdef _init_(self):\n",
        "\t\tself.head = None\n",
        "\t\n",
        "\t# Checks if stack is empty\n",
        "\tdef isempty(self):\n",
        "\t\tif self.head == None:\n",
        "\t\t\treturn True\n",
        "\t\telse:\n",
        "\t\t\treturn False\n",
        "\t\n",
        "\t# Method to add data to the stack\n",
        "\t# adds to the start of the stack\n",
        "\tdef push(self,data):\n",
        "\t\t\n",
        "\t\tif self.head == None:\n",
        "\t\t\tself.head=Node(data)\n",
        "\t\t\t\n",
        "\t\telse:\n",
        "\t\t\tnewnode = Node(data)\n",
        "\t\t\tnewnode.next = self.head\n",
        "\t\t\tself.head = newnode\n",
        "\t\n",
        "\t# Remove element that is the current head (start of the stack)\n",
        "\tdef pop(self):\n",
        "\t\t\n",
        "\t\tif self.isempty():\n",
        "\t\t\treturn None\n",
        "\t\t\t\n",
        "\t\telse:\n",
        "\t\t\t# Removes the head node and makes\n",
        "\t\t\t#the preceeding one the new head\n",
        "\t\t\tpoppednode = self.head\n",
        "\t\t\tself.head = self.head.next\n",
        "\t\t\tpoppednode.next = None\n",
        "\t\t\treturn poppednode.data\n",
        "\t\n",
        "\t# Returns the head node data\n",
        "\tdef peek(self):\n",
        "\t\t\n",
        "\t\tif self.isempty():\n",
        "\t\t\treturn None\n",
        "\t\t\t\n",
        "\t\telse:\n",
        "\t\t\treturn self.head.data\n",
        "\t\n",
        "\t# Prints out the stack\t\n",
        "\tdef display(self):\n",
        "\t\t\n",
        "\t\titernode = self.head\n",
        "\t\tif self.isempty():\n",
        "\t\t\tprint(\"Stack Underflow\")\n",
        "\t\t\n",
        "\t\telse:\n",
        "\t\t\t\n",
        "\t\t\twhile(iternode != None):\n",
        "\t\t\t\t\n",
        "\t\t\t\tprint(iternode.data,\"->\",end = \" \")\n",
        "\t\t\t\titernode = iternode.next\n",
        "\t\t\treturn\n",
        "\t\t\n",
        "# Driver code\n",
        "MyStack = Stack()\n",
        "\n",
        "MyStack.push(11)\n",
        "MyStack.push(22)\n",
        "MyStack.push(33)\n",
        "MyStack.push(44)\n",
        "\n",
        "# Display stack elements\n",
        "MyStack.display()\n",
        "\n",
        "# Print top element of stack\n",
        "print(\"\\nTop element is \",MyStack.peek())\n",
        "\n",
        "# Delete top elements of stack\n",
        "MyStack.pop()\n",
        "MyStack.pop()\n",
        "\n",
        "# Display stack elements\n",
        "MyStack.display()\n",
        "\n",
        "# Print top element of stack\n",
        "print(\"\\nTop element is \", MyStack.peek())\n"
      ],
      "execution_count": null,
      "outputs": []
    },
    {
      "cell_type": "code",
      "metadata": {
        "id": "IjR1wtmGRIzb"
      },
      "source": [
        "class Rectangle():\n",
        "    def _init_(self, l, w):\n",
        "        self.length = l\n",
        "        self.width  = w\n",
        "\n",
        "    def rectangle_area(self):\n",
        "        return self.length*self.width\n",
        "\n",
        "newRectangle = Rectangle(12, 10)\n",
        "print(newRectangle.rectangle_area())\n"
      ],
      "execution_count": null,
      "outputs": []
    },
    {
      "cell_type": "code",
      "metadata": {
        "id": "TFdwCTgSRX0L"
      },
      "source": [
        "class Queue:\n",
        "    def __init__(self):\n",
        "        self.items = []\n",
        "\n",
        "    def isEmpty(self):\n",
        "        return self.items == []\n",
        "\n",
        "    def enqueue(self, item):\n",
        "        self.items.insert(0,item)\n",
        "\n",
        "    def dequeue(self):\n",
        "        return self.items.pop()\n",
        "\n",
        "    def size(self):\n",
        "        return len(self.items)"
      ],
      "execution_count": null,
      "outputs": []
    }
  ]
}